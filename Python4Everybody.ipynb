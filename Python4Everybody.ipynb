{
  "nbformat": 4,
  "nbformat_minor": 0,
  "metadata": {
    "colab": {
      "name": "Python4Everybody.ipynb",
      "provenance": [],
      "authorship_tag": "ABX9TyOwQwX/HlpqZnF8I4rH+rVV",
      "include_colab_link": true
    },
    "kernelspec": {
      "name": "python3",
      "display_name": "Python 3"
    },
    "language_info": {
      "name": "python"
    }
  },
  "cells": [
    {
      "cell_type": "markdown",
      "metadata": {
        "id": "view-in-github",
        "colab_type": "text"
      },
      "source": [
        "<a href=\"https://colab.research.google.com/github/XiscoCantallops/Python/blob/master/Python4Everybody.ipynb\" target=\"_parent\"><img src=\"https://colab.research.google.com/assets/colab-badge.svg\" alt=\"Open In Colab\"/></a>"
      ]
    },
    {
      "cell_type": "markdown",
      "source": [
        "# Scripts de Network"
      ],
      "metadata": {
        "id": "QyGQZ2-bxQsC"
      }
    },
    {
      "cell_type": "code",
      "execution_count": null,
      "metadata": {
        "id": "J_B4b3VGwXdz"
      },
      "outputs": [],
      "source": [
        "#!/usr/bin/env python\n",
        "# -*- coding: utf-8 -*-\n",
        "#\n",
        "#Author: eduar766\n",
        "from requests import get, exceptions\n",
        "\n",
        "def check_internet_connection():\n",
        "    try:\n",
        "        get('http://google.com', timeout = 3)\n",
        "        print('connected')\n",
        "    except exceptions.ConnectionError:\n",
        "        print('not connected')\n",
        "\n",
        "check_internet_connection()"
      ]
    },
    {
      "cell_type": "markdown",
      "source": [
        "Cuenta regresiva"
      ],
      "metadata": {
        "id": "b6W5eckLxuzs"
      }
    },
    {
      "cell_type": "code",
      "source": [
        "num=10\n",
        "for i in range(1,num+1):\n",
        "     print(\"     \",num-i)\n",
        "print(\"Hasta la vista, Baby.\")#un poco de humor\n"
      ],
      "metadata": {
        "colab": {
          "base_uri": "https://localhost:8080/"
        },
        "id": "RkCizfvoxyOF",
        "outputId": "69d0e050-b1d9-42c6-80ed-f64cfbdbdf59"
      },
      "execution_count": 2,
      "outputs": [
        {
          "output_type": "stream",
          "name": "stdout",
          "text": [
            "      9\n",
            "      8\n",
            "      7\n",
            "      6\n",
            "      5\n",
            "      4\n",
            "      3\n",
            "      2\n",
            "      1\n",
            "      0\n",
            "Hasta la vista, Baby.\n"
          ]
        }
      ]
    }
  ]
}